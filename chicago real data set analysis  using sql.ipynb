{
 "cells": [
  {
   "cell_type": "code",
   "execution_count": 5,
   "id": "ae6a3f64",
   "metadata": {},
   "outputs": [],
   "source": [
    "import mysql.connector"
   ]
  },
  {
   "cell_type": "code",
   "execution_count": 6,
   "id": "faaf71f9",
   "metadata": {},
   "outputs": [
    {
     "name": "stdout",
     "output_type": "stream",
     "text": [
      "connected\n"
     ]
    }
   ],
   "source": [
    "try:\n",
    "    mydb = mysql.connector.connect(\n",
    "    host = \"localhost\",\n",
    "    user = \"root\",\n",
    "    password = \"ahsanjaved@96\",\n",
    "    database = \"chicago\"\n",
    "    )\n",
    "    print(\"connected\")\n",
    "except:\n",
    "    print(\"not connected\")"
   ]
  },
  {
   "cell_type": "code",
   "execution_count": 7,
   "id": "d9299799",
   "metadata": {},
   "outputs": [],
   "source": [
    "mycursor = mydb.cursor()"
   ]
  },
  {
   "cell_type": "markdown",
   "id": "5dac9e87",
   "metadata": {},
   "source": [
    "**Q#1 Find the total number of crimes recorded in the CRIME table**"
   ]
  },
  {
   "cell_type": "code",
   "execution_count": 51,
   "id": "a979f7bd",
   "metadata": {},
   "outputs": [],
   "source": [
    "q1 = \"(select count(*) as'no of crimes' from chicago_crime_data)\""
   ]
  },
  {
   "cell_type": "code",
   "execution_count": 52,
   "id": "0e9bde4e",
   "metadata": {},
   "outputs": [],
   "source": [
    "mycursor.execute(q1)"
   ]
  },
  {
   "cell_type": "code",
   "execution_count": 53,
   "id": "8b2f8ca9",
   "metadata": {},
   "outputs": [],
   "source": [
    "ans1 = mycursor.fetchall()"
   ]
  },
  {
   "cell_type": "code",
   "execution_count": 54,
   "id": "3a9d3ce1",
   "metadata": {},
   "outputs": [
    {
     "name": "stdout",
     "output_type": "stream",
     "text": [
      "[(385,)]\n"
     ]
    }
   ],
   "source": [
    "print(ans1)"
   ]
  },
  {
   "cell_type": "markdown",
   "id": "4c071349",
   "metadata": {},
   "source": [
    "**Q#2 List community areas with per capita income less than 11000**"
   ]
  },
  {
   "cell_type": "code",
   "execution_count": 63,
   "id": "ab5d559f",
   "metadata": {},
   "outputs": [],
   "source": [
    "q2 = \"(select COMMUNITY_AREA_NAME from census_data where PER_CAPITA_INCOME < 11000)\""
   ]
  },
  {
   "cell_type": "code",
   "execution_count": 64,
   "id": "bcfd17b6",
   "metadata": {},
   "outputs": [],
   "source": [
    "mycursor.execute(q2)"
   ]
  },
  {
   "cell_type": "code",
   "execution_count": 65,
   "id": "97e33cc4",
   "metadata": {},
   "outputs": [],
   "source": [
    "ans2 = mycursor.fetchall()"
   ]
  },
  {
   "cell_type": "code",
   "execution_count": 66,
   "id": "c8e25b51",
   "metadata": {},
   "outputs": [
    {
     "name": "stdout",
     "output_type": "stream",
     "text": [
      "('West Garfield Park',)\n",
      "('South Lawndale',)\n",
      "('Fuller Park',)\n",
      "('Riverdale',)\n"
     ]
    }
   ],
   "source": [
    "for i in ans2:\n",
    "    print(i)"
   ]
  },
  {
   "cell_type": "markdown",
   "id": "cce936b4",
   "metadata": {},
   "source": [
    "**Q#3 List all case numbers for crimes involving minors?**"
   ]
  },
  {
   "cell_type": "code",
   "execution_count": 77,
   "id": "16e2b70d",
   "metadata": {},
   "outputs": [],
   "source": [
    "q3 = \"(select CASE_NUMBER from chicago_crime_data where DESCRIPTION like '%MINOR%')\""
   ]
  },
  {
   "cell_type": "code",
   "execution_count": 78,
   "id": "0fba281d",
   "metadata": {},
   "outputs": [],
   "source": [
    "mycursor.execute(q3)"
   ]
  },
  {
   "cell_type": "code",
   "execution_count": 79,
   "id": "853b7f43",
   "metadata": {},
   "outputs": [],
   "source": [
    "ans3 = mycursor.fetchall()"
   ]
  },
  {
   "cell_type": "code",
   "execution_count": 80,
   "id": "af9cdf4e",
   "metadata": {},
   "outputs": [
    {
     "name": "stdout",
     "output_type": "stream",
     "text": [
      "('HL266884',)\n",
      "('HK238408',)\n"
     ]
    }
   ],
   "source": [
    "for i in ans3:\n",
    "    print(i)"
   ]
  },
  {
   "cell_type": "markdown",
   "id": "3d233787",
   "metadata": {},
   "source": [
    "**Q#4 List all kidnapping crimes involving a child?(children are not considered minors for the purposes of crime analysis)**"
   ]
  },
  {
   "cell_type": "code",
   "execution_count": 81,
   "id": "a16683a3",
   "metadata": {},
   "outputs": [],
   "source": [
    "Q4 = \"(select CASE_NUMBER from chicago_crime_data where PRIMARY_TYPE = 'KIDNAPPING')\""
   ]
  },
  {
   "cell_type": "code",
   "execution_count": 82,
   "id": "d0d20fdc",
   "metadata": {},
   "outputs": [],
   "source": [
    "mycursor.execute(q4)"
   ]
  },
  {
   "cell_type": "code",
   "execution_count": 83,
   "id": "9eeafddf",
   "metadata": {},
   "outputs": [],
   "source": [
    "ans4 = mycursor.fetchall()"
   ]
  },
  {
   "cell_type": "code",
   "execution_count": 84,
   "id": "fe2f2191",
   "metadata": {},
   "outputs": [
    {
     "name": "stdout",
     "output_type": "stream",
     "text": [
      "('HN144152',)\n"
     ]
    }
   ],
   "source": [
    "for i in ans4:\n",
    "    print(i)"
   ]
  },
  {
   "cell_type": "markdown",
   "id": "c526e7a0",
   "metadata": {},
   "source": [
    "**Q#5 What kind of crimes were recorded at schools?**"
   ]
  },
  {
   "cell_type": "code",
   "execution_count": 89,
   "id": "d9f951d5",
   "metadata": {},
   "outputs": [],
   "source": [
    "q5 = \"(select PRIMARY_TYPE from chicago_crime_data where LOCATION_DESCRIPTION like '%SCHOOL%')\""
   ]
  },
  {
   "cell_type": "code",
   "execution_count": 90,
   "id": "4802aacd",
   "metadata": {},
   "outputs": [],
   "source": [
    "mycursor.execute(q5)"
   ]
  },
  {
   "cell_type": "code",
   "execution_count": 91,
   "id": "7160ba9e",
   "metadata": {},
   "outputs": [],
   "source": [
    "ans5 = mycursor.fetchall()"
   ]
  },
  {
   "cell_type": "code",
   "execution_count": 92,
   "id": "2c4ba120",
   "metadata": {},
   "outputs": [
    {
     "name": "stdout",
     "output_type": "stream",
     "text": [
      "('CRIMINAL DAMAGE',)\n",
      "('NARCOTICS',)\n",
      "('NARCOTICS',)\n",
      "('CRIMINAL TRESPASS',)\n",
      "('PUBLIC PEACE VIOLATION',)\n",
      "('PUBLIC PEACE VIOLATION',)\n"
     ]
    }
   ],
   "source": [
    "for i in ans5:\n",
    "    print(i)"
   ]
  },
  {
   "cell_type": "markdown",
   "id": "8e2b8723",
   "metadata": {},
   "source": [
    "**Q#6 List the average safety score for all types of schools**"
   ]
  },
  {
   "cell_type": "code",
   "execution_count": 93,
   "id": "e007c795",
   "metadata": {},
   "outputs": [],
   "source": [
    "q6 = \"(select avg(SAFETY_SCORE) from chicago_public_schools)\""
   ]
  },
  {
   "cell_type": "code",
   "execution_count": 94,
   "id": "1fabc74c",
   "metadata": {},
   "outputs": [],
   "source": [
    "mycursor.execute(q6)"
   ]
  },
  {
   "cell_type": "code",
   "execution_count": 95,
   "id": "0d98113d",
   "metadata": {},
   "outputs": [],
   "source": [
    "ans6 = mycursor.fetchall()"
   ]
  },
  {
   "cell_type": "code",
   "execution_count": 96,
   "id": "4aac923f",
   "metadata": {},
   "outputs": [
    {
     "name": "stdout",
     "output_type": "stream",
     "text": [
      "(Decimal('45.3935'),)\n"
     ]
    }
   ],
   "source": [
    "for i in ans6:\n",
    "    print(i)"
   ]
  },
  {
   "cell_type": "markdown",
   "id": "7f892e93",
   "metadata": {},
   "source": [
    "**Q#7 List 5 community areas with highest % of households below poverty line**"
   ]
  },
  {
   "cell_type": "code",
   "execution_count": 101,
   "id": "a99d1088",
   "metadata": {},
   "outputs": [],
   "source": [
    "q7 = \"(select COMMUNITY_AREA_NAME,PERCENT_HOUSEHOLDS_BELOW_POVERTY from census_data order by PERCENT_HOUSEHOLDS_BELOW_POVERTY desc limit 5 )\""
   ]
  },
  {
   "cell_type": "code",
   "execution_count": 102,
   "id": "b993ad1e",
   "metadata": {},
   "outputs": [],
   "source": [
    "mycursor.execute(q7)"
   ]
  },
  {
   "cell_type": "code",
   "execution_count": 103,
   "id": "01c82fc8",
   "metadata": {},
   "outputs": [],
   "source": [
    "ans7 = mycursor.fetchall()"
   ]
  },
  {
   "cell_type": "code",
   "execution_count": 104,
   "id": "0a9c79bd",
   "metadata": {},
   "outputs": [
    {
     "name": "stdout",
     "output_type": "stream",
     "text": [
      "('Riverdale', 56.5)\n",
      "('Fuller Park', 51.2)\n",
      "('Englewood', 46.6)\n",
      "('North Lawndale', 43.1)\n",
      "('East Garfield Park', 42.4)\n"
     ]
    }
   ],
   "source": [
    "for i in ans7:\n",
    "    print(i)"
   ]
  },
  {
   "cell_type": "markdown",
   "id": "e3e42ee2",
   "metadata": {},
   "source": [
    "**Q#8 Which community area(number) is most crime prone?**"
   ]
  },
  {
   "cell_type": "code",
   "execution_count": 109,
   "id": "b2008096",
   "metadata": {},
   "outputs": [],
   "source": [
    "q8 = \"(select COMMUNITY_AREA_NUMBER ,count(COMMUNITY_AREA_NUMBER) as 'most crime' from chicago_crime_data group by COMMUNITY_AREA_NUMBER order by 'most crime' desc limit 1 )\""
   ]
  },
  {
   "cell_type": "code",
   "execution_count": 110,
   "id": "9b18ee9f",
   "metadata": {},
   "outputs": [],
   "source": [
    "mycursor.execute(q8)"
   ]
  },
  {
   "cell_type": "code",
   "execution_count": 111,
   "id": "f4639d21",
   "metadata": {},
   "outputs": [],
   "source": [
    "ans8 = mycursor.fetchall()"
   ]
  },
  {
   "cell_type": "code",
   "execution_count": 112,
   "id": "68a5f6a3",
   "metadata": {},
   "outputs": [
    {
     "name": "stdout",
     "output_type": "stream",
     "text": [
      "(58, 9)\n"
     ]
    }
   ],
   "source": [
    "for i in ans8:\n",
    "    print(i)"
   ]
  },
  {
   "cell_type": "markdown",
   "id": "6e8138db",
   "metadata": {},
   "source": [
    "**Q#10 Use a sub-query to determine the Community Area Name with most number of crimes?**"
   ]
  },
  {
   "cell_type": "code",
   "execution_count": 22,
   "id": "d5c87af8",
   "metadata": {},
   "outputs": [],
   "source": [
    "q10 = \"(select a.community_area_name,b.COMMUNITY_AREA_NUMBER,count(*)  from census_data a join chicago_crime_data b on a.COMMUNITY_AREA_NUMBER= b.COMMUNITY_AREA_NUMBER group by community_area_number order by 3 desc,1 desc)\""
   ]
  },
  {
   "cell_type": "code",
   "execution_count": 23,
   "id": "5fc3db5e",
   "metadata": {},
   "outputs": [],
   "source": [
    "mycursor.execute(q10)"
   ]
  },
  {
   "cell_type": "code",
   "execution_count": 24,
   "id": "6135814c",
   "metadata": {},
   "outputs": [],
   "source": [
    "ans10 = mycursor.fetchall()"
   ]
  },
  {
   "cell_type": "code",
   "execution_count": 25,
   "id": "c922f88b",
   "metadata": {},
   "outputs": [
    {
     "name": "stdout",
     "output_type": "stream",
     "text": [
      "('CHICAGO', 0, 29)\n",
      "('Austin', 25, 27)\n",
      "('Humboldt park', 23, 15)\n",
      "('Englewood', 68, 13)\n",
      "('Near West Side', 28, 12)\n",
      "('Near North Side', 8, 12)\n",
      "('West Town', 24, 11)\n",
      "('Chicago Lawn', 66, 10)\n",
      "('West Englewood', 67, 9)\n",
      "('Greater Grand Crossing', 69, 9)\n",
      "('Brighton Park', 58, 9)\n",
      "('Auburn Gresham', 71, 9)\n",
      "('North Lawndale', 29, 8)\n",
      "('Logan Square', 22, 8)\n",
      "('West Garfield Park', 26, 7)\n",
      "('New City', 61, 7)\n",
      "('Lower West Side', 31, 7)\n",
      "('Lake View', 6, 7)\n",
      "('Ashburn', 70, 7)\n",
      "('Woodlawn', 42, 6)\n",
      "('West Pullman', 53, 6)\n",
      "('South Chicago', 46, 6)\n",
      "('Roseland', 49, 6)\n",
      "('Rogers Park', 1, 6)\n",
      "('Loop', 32, 6)\n",
      "('Irving Park', 16, 6)\n",
      "('Gage Park', 63, 6)\n",
      "('Chatham', 44, 6)\n",
      "('West Ridge', 2, 5)\n",
      "('South Shore', 43, 5)\n",
      "('South Lawndale', 30, 5)\n",
      "('Calumet Heights', 48, 5)\n",
      "('Belmont Cragin', 19, 5)\n",
      "('Albany Park', 14, 5)\n",
      "('Uptown', 3, 4)\n",
      "('Portage Park', 15, 4)\n",
      "(\"O'Hare\", 76, 4)\n",
      "('Grand Boulevard', 38, 4)\n",
      "('Douglas', 35, 4)\n",
      "('Avondale', 21, 4)\n",
      "('West Lawn', 65, 3)\n",
      "('West Elsdon', 62, 3)\n",
      "('Norwood Park', 10, 3)\n",
      "('North Center', 5, 3)\n",
      "('Lincoln Park', 7, 3)\n",
      "('Hermosa', 20, 3)\n",
      "('East Garfield Park', 27, 3)\n",
      "('Dunning', 17, 3)\n",
      "('Beverly', 72, 3)\n",
      "('Washington Height', 73, 2)\n",
      "('South Deering', 51, 2)\n",
      "('Pullman', 50, 2)\n",
      "('Montclaire', 18, 2)\n",
      "('McKinley Park', 59, 2)\n",
      "('Lincoln Square', 4, 2)\n",
      "('Kenwood', 39, 2)\n",
      "('Jefferson Park', 11, 2)\n",
      "('Hyde Park', 41, 2)\n",
      "('Garfield Ridge', 56, 2)\n",
      "('Edgewater', 77, 2)\n",
      "('East Side', 52, 2)\n",
      "('Clearing', 64, 2)\n",
      "('Avalon Park', 45, 2)\n",
      "('Riverdale', 54, 1)\n",
      "('Morgan Park', 75, 1)\n",
      "('Hegewisch', 55, 1)\n",
      "('Forest Glen', 12, 1)\n",
      "('Burnside', 47, 1)\n",
      "('Bridgeport', 60, 1)\n"
     ]
    }
   ],
   "source": [
    "for i in ans10:\n",
    "    print(i)"
   ]
  },
  {
   "cell_type": "code",
   "execution_count": null,
   "id": "11ffcff1",
   "metadata": {},
   "outputs": [],
   "source": []
  }
 ],
 "metadata": {
  "kernelspec": {
   "display_name": "Python 3 (ipykernel)",
   "language": "python",
   "name": "python3"
  },
  "language_info": {
   "codemirror_mode": {
    "name": "ipython",
    "version": 3
   },
   "file_extension": ".py",
   "mimetype": "text/x-python",
   "name": "python",
   "nbconvert_exporter": "python",
   "pygments_lexer": "ipython3",
   "version": "3.9.12"
  }
 },
 "nbformat": 4,
 "nbformat_minor": 5
}
